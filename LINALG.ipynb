{
 "cells": [
  {
   "cell_type": "code",
   "execution_count": 1,
   "metadata": {
    "collapsed": true
   },
   "outputs": [],
   "source": [
    "import numpy as np"
   ]
  },
  {
   "cell_type": "code",
   "execution_count": 2,
   "metadata": {
    "collapsed": true
   },
   "outputs": [],
   "source": [
    "a = [[1, 0], [0, 1]]"
   ]
  },
  {
   "cell_type": "code",
   "execution_count": 3,
   "metadata": {
    "collapsed": true
   },
   "outputs": [],
   "source": [
    "b = [[4, 1], [2, 2]]"
   ]
  },
  {
   "cell_type": "code",
   "execution_count": 4,
   "metadata": {
    "collapsed": false
   },
   "outputs": [
    {
     "data": {
      "text/plain": [
       "array([[4, 1],\n",
       "       [2, 2]])"
      ]
     },
     "execution_count": 4,
     "metadata": {},
     "output_type": "execute_result"
    }
   ],
   "source": [
    "np.matmul(a, b)"
   ]
  },
  {
   "cell_type": "markdown",
   "metadata": {},
   "source": [
    "cholesky"
   ]
  },
  {
   "cell_type": "code",
   "execution_count": 5,
   "metadata": {
    "collapsed": true
   },
   "outputs": [],
   "source": [
    "A = np.array([[1,-2j],[2j,5]])"
   ]
  },
  {
   "cell_type": "code",
   "execution_count": 6,
   "metadata": {
    "collapsed": true
   },
   "outputs": [],
   "source": [
    "L = np.linalg.cholesky(A)"
   ]
  },
  {
   "cell_type": "code",
   "execution_count": 7,
   "metadata": {
    "collapsed": false
   },
   "outputs": [
    {
     "data": {
      "text/plain": [
       "array([[ 1.+0.j,  0.+0.j],\n",
       "       [ 0.+2.j,  1.+0.j]])"
      ]
     },
     "execution_count": 7,
     "metadata": {},
     "output_type": "execute_result"
    }
   ],
   "source": [
    "L"
   ]
  },
  {
   "cell_type": "code",
   "execution_count": 8,
   "metadata": {
    "collapsed": false
   },
   "outputs": [
    {
     "data": {
      "text/plain": [
       "array([[ 1.+0.j,  0.-2.j],\n",
       "       [ 0.+2.j,  5.+0.j]])"
      ]
     },
     "execution_count": 8,
     "metadata": {},
     "output_type": "execute_result"
    }
   ],
   "source": [
    "np.dot(L, L.T.conj()) # verify that L * L.H = A"
   ]
  },
  {
   "cell_type": "code",
   "execution_count": 9,
   "metadata": {
    "collapsed": false
   },
   "outputs": [
    {
     "data": {
      "text/plain": [
       "array([[ 1.+0.j,  0.-2.j],\n",
       "       [ 0.+2.j,  5.+0.j]])"
      ]
     },
     "execution_count": 9,
     "metadata": {},
     "output_type": "execute_result"
    }
   ],
   "source": [
    "A"
   ]
  },
  {
   "cell_type": "code",
   "execution_count": 10,
   "metadata": {
    "collapsed": true
   },
   "outputs": [],
   "source": [
    "A = [[1,-2j],[2j,5]] # what happens if A is only array_like?"
   ]
  },
  {
   "cell_type": "code",
   "execution_count": 11,
   "metadata": {
    "collapsed": false
   },
   "outputs": [
    {
     "data": {
      "text/plain": [
       "[[1, -2j], [2j, 5]]"
      ]
     },
     "execution_count": 11,
     "metadata": {},
     "output_type": "execute_result"
    }
   ],
   "source": [
    "A"
   ]
  },
  {
   "cell_type": "code",
   "execution_count": 12,
   "metadata": {
    "collapsed": false
   },
   "outputs": [
    {
     "data": {
      "text/plain": [
       "array([[ 1.+0.j,  0.+0.j],\n",
       "       [ 0.+2.j,  1.+0.j]])"
      ]
     },
     "execution_count": 12,
     "metadata": {},
     "output_type": "execute_result"
    }
   ],
   "source": [
    "np.linalg.cholesky(A) # an ndarray object is returned"
   ]
  },
  {
   "cell_type": "code",
   "execution_count": 15,
   "metadata": {
    "collapsed": false
   },
   "outputs": [
    {
     "data": {
      "text/plain": [
       "matrix([[ 1.+0.j,  0.+0.j],\n",
       "        [ 0.+2.j,  1.+0.j]])"
      ]
     },
     "execution_count": 15,
     "metadata": {},
     "output_type": "execute_result"
    }
   ],
   "source": [
    "np.linalg.cholesky(np.matrix(A))"
   ]
  },
  {
   "cell_type": "code",
   "execution_count": 2,
   "metadata": {
    "collapsed": false
   },
   "outputs": [],
   "source": [
    "C = [[ 5+4j,   3-2j,  4+4j,  -6+2j,   -2+4j,  2-8j],\n",
    "[2+2j,3+0j,  -7+2j,  12-1j,3+2j,1+1j ],\n",
    "[5+4j,   0+0j,  9+2j,  0+0j,  0+0j,  0+0j],\n",
    "[0+0j,    0+0j,  0+0j,  -4-7j,   2-1j,  2+2j],\n",
    "[17+19.6j,4+3j,  -2-1j,  1+1j,   -14+3j,  8-4j],\n",
    "[-5-3j, 8+2j,   4-3j, -3-5j,  15+2j,  1+0j]]"
   ]
  },
  {
   "cell_type": "code",
   "execution_count": 15,
   "metadata": {
    "collapsed": false
   },
   "outputs": [],
   "source": [
    "D=[[  5+ 0j ,  3 -2j ,  4+4j ,  -6+ 2j ,  7+ 9.6j ,  -5 -3j  ],\n",
    "[ 3+ 2j ,  3 +0j ,  -7+ 2j ,  12 -1j ,  3+ 2j ,  8+ 2j  ],\n",
    "[4 -4j ,  -7 -2j ,  9+ 0j ,  0+ 0j ,  -2 -1j ,  4 -3j  ],\n",
    "[ -6 -2j ,  12+ 1j ,  0+ 0j ,  -4+ 0j,  2 -1j ,  -3 -5j  ],\n",
    "[7 -9.6j ,  3 -2j ,  -2+ 1j ,  2+ 1j ,  -14+ 0j ,  8 -4j  ],\n",
    "[ -5+ 3j ,  8 -2j ,  4+ 3j ,  -3+ 5j ,  8+ 4j ,  4+ 0j ]]"
   ]
  },
  {
   "cell_type": "code",
   "execution_count": 3,
   "metadata": {
    "collapsed": true
   },
   "outputs": [],
   "source": [
    "from numpy import linalg as LA"
   ]
  },
  {
   "cell_type": "code",
   "execution_count": 33,
   "metadata": {
    "collapsed": false
   },
   "outputs": [],
   "source": [
    "w, v = LA.eigh(np.matrix(C))"
   ]
  },
  {
   "cell_type": "code",
   "execution_count": 34,
   "metadata": {
    "collapsed": false
   },
   "outputs": [
    {
     "data": {
      "text/plain": [
       "array([-39.51054532,  -7.44276406,  -1.75053875,   7.65130776,\n",
       "        13.61325204,  27.43928833])"
      ]
     },
     "execution_count": 34,
     "metadata": {},
     "output_type": "execute_result"
    }
   ],
   "source": [
    "w"
   ]
  },
  {
   "cell_type": "code",
   "execution_count": 35,
   "metadata": {
    "collapsed": false
   },
   "outputs": [
    {
     "data": {
      "text/plain": [
       "matrix([[-0.50729373+0.j        , -0.18318485+0.j        ,\n",
       "          0.07866947+0.j        , -0.23876294+0.j        ,\n",
       "          0.44441505+0.j        ,  0.66962304-0.j        ],\n",
       "        [-0.00327383+0.05188275j, -0.24755720-0.34590348j,\n",
       "         -0.63912208+0.17371997j,  0.06996891+0.41763245j,\n",
       "         -0.30837700-0.1422297j ,  0.23449497+0.16757672j],\n",
       "        [ 0.08767441+0.09282697j,  0.11977500-0.06659707j,\n",
       "         -0.11630642-0.11407466j,  0.76175553-0.1823966j ,\n",
       "          0.42463189-0.30476773j,  0.10264521+0.2027394j ],\n",
       "        [-0.09175423+0.00991401j,  0.69445072+0.11894245j,\n",
       "         -0.28448693+0.58885218j, -0.16059709+0.01010145j,\n",
       "          0.19785075-0.03381011j, -0.03468450-0.00309031j],\n",
       "        [ 0.52085961+0.54629882j,  0.05081244+0.22177911j,\n",
       "          0.14176868+0.02122691j, -0.20255792+0.00981969j,\n",
       "         -0.04358421+0.06003112j,  0.34853963+0.43570256j],\n",
       "        [-0.24884435-0.28891023j,  0.14964639+0.44289647j,\n",
       "          0.28336833-0.00943342j,  0.13417268+0.25518197j,\n",
       "         -0.40884267-0.44836403j,  0.13830862+0.29195444j]])"
      ]
     },
     "execution_count": 35,
     "metadata": {},
     "output_type": "execute_result"
    }
   ],
   "source": [
    "v"
   ]
  },
  {
   "cell_type": "code",
   "execution_count": 36,
   "metadata": {
    "collapsed": false
   },
   "outputs": [
    {
     "data": {
      "text/plain": [
       "[[(5+4j), (3-2j), (4+4j), (-6+2j), (-2+4j), (2-8j)],\n",
       " [(2+2j), (3+0j), (-7+2j), (12-1j), (3+2j), (1+1j)],\n",
       " [(5+4j), 0j, (9+2j), 0j, 0j, 0j],\n",
       " [0j, 0j, 0j, (-4-7j), (2-1j), (2+2j)],\n",
       " [(17+19.6j), (4+3j), (-2-1j), (1+1j), (-14+3j), (8-4j)],\n",
       " [(-5-3j), (8+2j), (4-3j), (-3-5j), (15+2j), (1+0j)]]"
      ]
     },
     "execution_count": 36,
     "metadata": {},
     "output_type": "execute_result"
    }
   ],
   "source": [
    "C"
   ]
  },
  {
   "cell_type": "code",
   "execution_count": 4,
   "metadata": {
    "collapsed": true
   },
   "outputs": [],
   "source": [
    " q, r = np.linalg.qr(C)"
   ]
  },
  {
   "cell_type": "code",
   "execution_count": 5,
   "metadata": {
    "collapsed": false
   },
   "outputs": [
    {
     "data": {
      "text/plain": [
       "matrix([[-0.17709131-0.14167305j, -0.21842164+0.21912282j,\n",
       "         -0.31302979-0.27366364j, -0.18749829+0.32559367j,\n",
       "          0.30374708-0.52331769j,  0.36578709-0.19716598j],\n",
       "        [-0.07083652-0.07083652j, -0.26370029+0.01302911j,\n",
       "          0.49083236-0.15078044j,  0.61500681+0.05954604j,\n",
       "         -0.15166367+0.06294535j,  0.47006715-0.16401039j],\n",
       "        [-0.17709131-0.14167305j,  0.07889575+0.02091123j,\n",
       "         -0.65307094-0.11157735j,  0.33606913+0.03373732j,\n",
       "         -0.06693101+0.41819413j,  0.25324594+0.38127966j],\n",
       "        [ 0.00000000-0.j        , -0.00000000+0.j        ,\n",
       "          0.00000000+0.j        , -0.28878352-0.50537115j,\n",
       "         -0.53098353-0.3380243j ,  0.41976270+0.2979923j ],\n",
       "        [-0.60211046-0.69419794j, -0.09729564-0.15624989j,\n",
       "          0.09557706+0.15708108j, -0.07783409-0.1171929j ,\n",
       "         -0.08023706+0.00392162j, -0.23382049-0.0833342j ],\n",
       "        [ 0.17709131+0.10625479j, -0.86659512-0.20746127j,\n",
       "         -0.27338072+0.12637965j,  0.01974884-0.06320694j,\n",
       "         -0.15564806+0.02574113j, -0.20147855-0.05239086j]])"
      ]
     },
     "execution_count": 5,
     "metadata": {},
     "output_type": "execute_result"
    }
   ],
   "source": [
    "np.matrix(q)"
   ]
  },
  {
   "cell_type": "code",
   "execution_count": 6,
   "metadata": {
    "collapsed": false
   },
   "outputs": [
    {
     "data": {
      "text/plain": [
       "array([[-28.23402203 +0.j        ,  -3.32223301 +1.46631606j,\n",
       "         -0.51002298 -1.60090546j,  -2.35885627 -0.75795081j,\n",
       "          8.64913967-13.68561658j,  -1.22547188 +9.55584719j],\n",
       "       [  0.00000000 +0.j        , -10.09022720 +0.j        ,\n",
       "          0.13349370 +0.99764214j,   1.95488906 +4.75479066j,\n",
       "        -11.97216815 -2.10258548j,  -3.46045772 +2.87904103j],\n",
       "       [  0.00000000 +0.j        ,   0.00000000 +0.j        ,\n",
       "        -14.00585120 +0.j        ,   7.81252220 +0.73503004j,\n",
       "         -4.01244578 -0.32203031j,   1.76621284 +1.92784185j],\n",
       "       [  0.00000000 +0.j        ,   0.00000000 +0.j        ,\n",
       "          0.00000000 +0.j        ,  13.85120608 +0.j        ,\n",
       "          4.47720515 +1.36549437j,  -4.02765468 +3.14952154j],\n",
       "       [  0.00000000 +0.j        ,   0.00000000 +0.j        ,\n",
       "          0.00000000 +0.j        ,   0.00000000 +0.j        ,\n",
       "         -4.90196292 +0.j        ,   2.15407068 -1.72003458j],\n",
       "       [  0.00000000 +0.j        ,   0.00000000 +0.j        ,\n",
       "          0.00000000 +0.j        ,   0.00000000 +0.j        ,\n",
       "          0.00000000 +0.j        ,   2.31176311 +0.j        ]])"
      ]
     },
     "execution_count": 6,
     "metadata": {},
     "output_type": "execute_result"
    }
   ],
   "source": [
    "r"
   ]
  },
  {
   "cell_type": "code",
   "execution_count": 29,
   "metadata": {
    "collapsed": true
   },
   "outputs": [],
   "source": [
    "r2 = np.linalg.qr(C, mode='r')"
   ]
  },
  {
   "cell_type": "code",
   "execution_count": 30,
   "metadata": {
    "collapsed": false
   },
   "outputs": [
    {
     "data": {
      "text/plain": [
       "array([[-28.23402203 +0.j        ,  -3.32223301 +1.46631606j,\n",
       "         -0.51002298 -1.60090546j,  -2.35885627 -0.75795081j,\n",
       "          8.64913967-13.68561658j,  -1.22547188 +9.55584719j],\n",
       "       [  0.00000000 +0.j        , -10.09022720 +0.j        ,\n",
       "          0.13349370 +0.99764214j,   1.95488906 +4.75479066j,\n",
       "        -11.97216815 -2.10258548j,  -3.46045772 +2.87904103j],\n",
       "       [  0.00000000 +0.j        ,   0.00000000 +0.j        ,\n",
       "        -14.00585120 +0.j        ,   7.81252220 +0.73503004j,\n",
       "         -4.01244578 -0.32203031j,   1.76621284 +1.92784185j],\n",
       "       [  0.00000000 +0.j        ,   0.00000000 +0.j        ,\n",
       "          0.00000000 +0.j        ,  13.85120608 +0.j        ,\n",
       "          4.47720515 +1.36549437j,  -4.02765468 +3.14952154j],\n",
       "       [  0.00000000 +0.j        ,   0.00000000 +0.j        ,\n",
       "          0.00000000 +0.j        ,   0.00000000 +0.j        ,\n",
       "         -4.90196292 +0.j        ,   2.15407068 -1.72003458j],\n",
       "       [  0.00000000 +0.j        ,   0.00000000 +0.j        ,\n",
       "          0.00000000 +0.j        ,   0.00000000 +0.j        ,\n",
       "          0.00000000 +0.j        ,   2.31176311 +0.j        ]])"
      ]
     },
     "execution_count": 30,
     "metadata": {},
     "output_type": "execute_result"
    }
   ],
   "source": [
    "r2"
   ]
  },
  {
   "cell_type": "markdown",
   "metadata": {},
   "source": [
    "As can be seen, the sign changes, I think this is to do with the atan2 issue <br>Lets see what the hesseneburg matrix looks like"
   ]
  },
  {
   "cell_type": "code",
   "execution_count": 7,
   "metadata": {
    "collapsed": true
   },
   "outputs": [],
   "source": [
    "from scipy import linalg"
   ]
  },
  {
   "cell_type": "code",
   "execution_count": 48,
   "metadata": {
    "collapsed": false
   },
   "outputs": [],
   "source": [
    "X = linalg.hessenberg(C)"
   ]
  },
  {
   "cell_type": "code",
   "execution_count": 49,
   "metadata": {
    "collapsed": false
   },
   "outputs": [
    {
     "data": {
      "text/plain": [
       "array([[  5.00000000+4.j        ,   4.81483197-3.66567267j,\n",
       "         -6.82193960-1.02600951j,  -1.59633939-3.83628855j,\n",
       "          6.46035778-2.70052503j,   4.72325506+0.43020449j],\n",
       "       [-27.49836359+0.j        , -16.24899492+3.15076174j,\n",
       "          6.19663208-1.96834184j,   4.81294454-1.12126446j,\n",
       "         -1.22368637-1.34636471j,   1.17395176-0.72791412j],\n",
       "       [  0.00000000+0.j        ,  14.78222559+0.j        ,\n",
       "          4.77919002+0.88734138j,  -2.07771388-1.59993373j,\n",
       "         -7.07394603+2.30483064j,   0.92877422-4.7364172j ],\n",
       "       [  0.00000000+0.j        ,   0.00000000+0.j        ,\n",
       "         -3.63284780+0.j        ,   2.22042608-6.67045668j,\n",
       "          5.92684034-6.79456978j,  -1.83040006-5.2161888j ],\n",
       "       [  0.00000000+0.j        ,   0.00000000+0.j        ,\n",
       "          0.00000000+0.j        ,  -5.95047217+0.j        ,\n",
       "         -6.28243479-0.4624197j ,   2.68677981+0.54186242j],\n",
       "       [  0.00000000+0.j        ,   0.00000000+0.j        ,\n",
       "          0.00000000+0.j        ,   0.00000000+0.j        ,\n",
       "          4.03309769+0.j        ,  10.53181361+1.09477325j]])"
      ]
     },
     "execution_count": 49,
     "metadata": {},
     "output_type": "execute_result"
    }
   ],
   "source": [
    "X"
   ]
  },
  {
   "cell_type": "code",
   "execution_count": 22,
   "metadata": {
    "collapsed": true
   },
   "outputs": [],
   "source": [
    "np.set_printoptions(precision=3)"
   ]
  },
  {
   "cell_type": "code",
   "execution_count": 23,
   "metadata": {
    "collapsed": false
   },
   "outputs": [
    {
     "name": "stdout",
     "output_type": "stream",
     "text": [
      "[[  5.000e+00 +0.000e+00j  -1.613e+01 +0.000e+00j  -1.210e-16 +6.911e-16j\n",
      "   -1.165e-15 +1.098e-15j  -3.316e-16 -2.711e-15j   5.788e-16 -7.676e-16j]\n",
      " [ -1.613e+01 +0.000e+00j  -1.692e+01 +2.220e-16j   8.926e+00 +1.776e-15j\n",
      "    3.986e-16 -1.582e-15j  -3.855e-16 +4.464e-16j  -1.698e-15 -4.834e-16j]\n",
      " [  0.000e+00 +0.000e+00j   8.926e+00 +0.000e+00j   1.220e+01 -1.776e-15j\n",
      "   -6.514e+00 -1.776e-15j  -5.430e-16 +5.956e-16j   9.080e-16 +7.090e-17j]\n",
      " [  0.000e+00 +0.000e+00j   0.000e+00 +0.000e+00j  -6.514e+00 +0.000e+00j\n",
      "   -3.432e+00 -1.332e-15j   1.412e+01 +8.882e-16j   1.123e-16 -4.296e-16j]\n",
      " [  0.000e+00 +0.000e+00j   0.000e+00 +0.000e+00j   0.000e+00 +0.000e+00j\n",
      "    1.412e+01 +0.000e+00j   2.965e+00 -2.220e-16j   5.699e+00 -8.882e-16j]\n",
      " [  0.000e+00 +0.000e+00j   0.000e+00 +0.000e+00j   0.000e+00 +0.000e+00j\n",
      "    0.000e+00 +0.000e+00j   5.699e+00 +0.000e+00j   3.194e+00 +8.882e-16j]]\n"
     ]
    }
   ],
   "source": [
    "print(np.array(X))"
   ]
  },
  {
   "cell_type": "markdown",
   "metadata": {},
   "source": [
    "as we can see the Hessenburg is not the same "
   ]
  },
  {
   "cell_type": "markdown",
   "metadata": {},
   "source": [
    "however I would like to direct the reader to <br>\n",
    "https://books.google.co.uk/books?id=mlOa7wPX6OYC&pg=PA346&lpg=PA346&dq=are+hessenberg+matrices+unique&source=bl&ots=ldhoh6Jaj0&sig=dGCw26IhHPLk8BA8G1z46VWmGpU&hl=en&sa=X&ved=0ahUKEwixson48MvPAhWID8AKHWCgB9MQ6AEIOTAD#v=onepage&q=are%20hessenberg%20matrices%20unique&f=false\n",
    "\n",
    "The section on Implicit Q theorom, and this states that essentially if the first column is the same, then the hessenburg matrix is the same, (if RAR = Q and ZAZ = G are both Hessenburg matrices, then they are the same if the first column is the same)"
   ]
  },
  {
   "cell_type": "code",
   "execution_count": 8,
   "metadata": {
    "collapsed": true
   },
   "outputs": [],
   "source": [
    "w, v = LA.eigh(np.matrix(C))"
   ]
  },
  {
   "cell_type": "code",
   "execution_count": 9,
   "metadata": {
    "collapsed": false
   },
   "outputs": [
    {
     "data": {
      "text/plain": [
       "array([-39.51054532,  -7.44276406,  -1.75053875,   7.65130776,\n",
       "        13.61325204,  27.43928833])"
      ]
     },
     "execution_count": 9,
     "metadata": {},
     "output_type": "execute_result"
    }
   ],
   "source": [
    "w"
   ]
  },
  {
   "cell_type": "code",
   "execution_count": 10,
   "metadata": {
    "collapsed": false
   },
   "outputs": [
    {
     "data": {
      "text/plain": [
       "matrix([[-0.50729373+0.j        , -0.18318485+0.j        ,\n",
       "          0.07866947+0.j        , -0.23876294+0.j        ,\n",
       "          0.44441505+0.j        ,  0.66962304-0.j        ],\n",
       "        [-0.00327383+0.05188275j, -0.24755720-0.34590348j,\n",
       "         -0.63912208+0.17371997j,  0.06996891+0.41763245j,\n",
       "         -0.30837700-0.1422297j ,  0.23449497+0.16757672j],\n",
       "        [ 0.08767441+0.09282697j,  0.11977500-0.06659707j,\n",
       "         -0.11630642-0.11407466j,  0.76175553-0.1823966j ,\n",
       "          0.42463189-0.30476773j,  0.10264521+0.2027394j ],\n",
       "        [-0.09175423+0.00991401j,  0.69445072+0.11894245j,\n",
       "         -0.28448693+0.58885218j, -0.16059709+0.01010145j,\n",
       "          0.19785075-0.03381011j, -0.03468450-0.00309031j],\n",
       "        [ 0.52085961+0.54629882j,  0.05081244+0.22177911j,\n",
       "          0.14176868+0.02122691j, -0.20255792+0.00981969j,\n",
       "         -0.04358421+0.06003112j,  0.34853963+0.43570256j],\n",
       "        [-0.24884435-0.28891023j,  0.14964639+0.44289647j,\n",
       "          0.28336833-0.00943342j,  0.13417268+0.25518197j,\n",
       "         -0.40884267-0.44836403j,  0.13830862+0.29195444j]])"
      ]
     },
     "execution_count": 10,
     "metadata": {},
     "output_type": "execute_result"
    }
   ],
   "source": [
    "v"
   ]
  },
  {
   "cell_type": "code",
   "execution_count": 12,
   "metadata": {
    "collapsed": false
   },
   "outputs": [
    {
     "data": {
      "text/plain": [
       "array([[-28.23402203 +0.j        ,  -3.32223301 +1.46631606j,\n",
       "         -0.51002298 -1.60090546j,  -2.35885627 -0.75795081j,\n",
       "          8.64913967-13.68561658j,  -1.22547188 +9.55584719j],\n",
       "       [  0.00000000 +0.j        , -10.09022720 +0.j        ,\n",
       "          0.13349370 +0.99764214j,   1.95488906 +4.75479066j,\n",
       "        -11.97216815 -2.10258548j,  -3.46045772 +2.87904103j],\n",
       "       [  0.00000000 +0.j        ,   0.00000000 +0.j        ,\n",
       "        -14.00585120 +0.j        ,   7.81252220 +0.73503004j,\n",
       "         -4.01244578 -0.32203031j,   1.76621284 +1.92784185j],\n",
       "       [  0.00000000 +0.j        ,   0.00000000 +0.j        ,\n",
       "          0.00000000 +0.j        ,  13.85120608 +0.j        ,\n",
       "          4.47720515 +1.36549437j,  -4.02765468 +3.14952154j],\n",
       "       [  0.00000000 +0.j        ,   0.00000000 +0.j        ,\n",
       "          0.00000000 +0.j        ,   0.00000000 +0.j        ,\n",
       "         -4.90196292 +0.j        ,   2.15407068 -1.72003458j],\n",
       "       [  0.00000000 +0.j        ,   0.00000000 +0.j        ,\n",
       "          0.00000000 +0.j        ,   0.00000000 +0.j        ,\n",
       "          0.00000000 +0.j        ,   2.31176311 +0.j        ]])"
      ]
     },
     "execution_count": 12,
     "metadata": {},
     "output_type": "execute_result"
    }
   ],
   "source": [
    "r"
   ]
  },
  {
   "cell_type": "code",
   "execution_count": 16,
   "metadata": {
    "collapsed": false
   },
   "outputs": [
    {
     "data": {
      "text/plain": [
       "[[(5+0j), (3-2j), (4+4j), (-6+2j), (7+9.6j), (-5-3j)],\n",
       " [(3+2j), (3+0j), (-7+2j), (12-1j), (3+2j), (8+2j)],\n",
       " [(4-4j), (-7-2j), (9+0j), 0j, (-2-1j), (4-3j)],\n",
       " [(-6-2j), (12+1j), 0j, (-4+0j), (2-1j), (-3-5j)],\n",
       " [(7-9.6j), (3-2j), (-2+1j), (2+1j), (-14+0j), (8-4j)],\n",
       " [(-5+3j), (8-2j), (4+3j), (-3+5j), (8+4j), (4+0j)]]"
      ]
     },
     "execution_count": 16,
     "metadata": {},
     "output_type": "execute_result"
    }
   ],
   "source": [
    "D"
   ]
  },
  {
   "cell_type": "code",
   "execution_count": 17,
   "metadata": {
    "collapsed": true
   },
   "outputs": [],
   "source": [
    "w, v = LA.eigh(np.matrix(D))"
   ]
  },
  {
   "cell_type": "code",
   "execution_count": 18,
   "metadata": {
    "collapsed": false
   },
   "outputs": [
    {
     "data": {
      "text/plain": [
       "[[(5+0j), (3-2j), (4+4j), (-6+2j), (7+9.6j), (-5-3j)],\n",
       " [(3+2j), (3+0j), (-7+2j), (12-1j), (3+2j), (8+2j)],\n",
       " [(4-4j), (-7-2j), (9+0j), 0j, (-2-1j), (4-3j)],\n",
       " [(-6-2j), (12+1j), 0j, (-4+0j), (2-1j), (-3-5j)],\n",
       " [(7-9.6j), (3-2j), (-2+1j), (2+1j), (-14+0j), (8-4j)],\n",
       " [(-5+3j), (8-2j), (4+3j), (-3+5j), (8+4j), (4+0j)]]"
      ]
     },
     "execution_count": 18,
     "metadata": {},
     "output_type": "execute_result"
    }
   ],
   "source": [
    "D"
   ]
  },
  {
   "cell_type": "code",
   "execution_count": 19,
   "metadata": {
    "collapsed": false
   },
   "outputs": [
    {
     "data": {
      "text/plain": [
       "array([-27.17101517, -16.12488772,   1.79908178,   9.43515362,\n",
       "        14.87331156,  20.18835593])"
      ]
     },
     "execution_count": 19,
     "metadata": {},
     "output_type": "execute_result"
    }
   ],
   "source": [
    "w"
   ]
  },
  {
   "cell_type": "code",
   "execution_count": 20,
   "metadata": {
    "collapsed": true
   },
   "outputs": [],
   "source": [
    "X = linalg.hessenberg(D)"
   ]
  },
  {
   "cell_type": "code",
   "execution_count": 21,
   "metadata": {
    "collapsed": false
   },
   "outputs": [
    {
     "data": {
      "text/plain": [
       "array([[  5.00000000e+00 +0.00000000e+00j,\n",
       "         -1.61294761e+01 +0.00000000e+00j,\n",
       "         -1.20996675e-16 +6.91109968e-16j,\n",
       "         -1.16485068e-15 +1.09836102e-15j,\n",
       "         -3.31647488e-16 -2.71085400e-15j,\n",
       "          5.78811197e-16 -7.67589768e-16j],\n",
       "       [ -1.61294761e+01 +0.00000000e+00j,\n",
       "         -1.69220480e+01 +2.22044605e-16j,\n",
       "          8.92640642e+00 +1.77635684e-15j,\n",
       "          3.98555044e-16 -1.58164802e-15j,\n",
       "         -3.85526925e-16 +4.46417753e-16j,\n",
       "         -1.69821858e-15 -4.83399624e-16j],\n",
       "       [  0.00000000e+00 +0.00000000e+00j,\n",
       "          8.92640642e+00 +0.00000000e+00j,\n",
       "          1.21951858e+01 -1.77635684e-15j,\n",
       "         -6.51380783e+00 -1.77635684e-15j,\n",
       "         -5.43007588e-16 +5.95600294e-16j,\n",
       "          9.08014593e-16 +7.08995456e-17j],\n",
       "       [  0.00000000e+00 +0.00000000e+00j,\n",
       "          0.00000000e+00 +0.00000000e+00j,\n",
       "         -6.51380783e+00 +0.00000000e+00j,\n",
       "         -3.43214648e+00 -1.33226763e-15j,\n",
       "          1.41238930e+01 +8.88178420e-16j,\n",
       "          1.12327334e-16 -4.29648457e-16j],\n",
       "       [  0.00000000e+00 +0.00000000e+00j,\n",
       "          0.00000000e+00 +0.00000000e+00j,\n",
       "          0.00000000e+00 +0.00000000e+00j,\n",
       "          1.41238930e+01 +0.00000000e+00j,\n",
       "          2.96453224e+00 -2.22044605e-16j,\n",
       "          5.69909726e+00 -8.88178420e-16j],\n",
       "       [  0.00000000e+00 +0.00000000e+00j,\n",
       "          0.00000000e+00 +0.00000000e+00j,\n",
       "          0.00000000e+00 +0.00000000e+00j,\n",
       "          0.00000000e+00 +0.00000000e+00j,\n",
       "          5.69909726e+00 +0.00000000e+00j,\n",
       "          3.19447638e+00 +8.88178420e-16j]])"
      ]
     },
     "execution_count": 21,
     "metadata": {},
     "output_type": "execute_result"
    }
   ],
   "source": [
    "X"
   ]
  },
  {
   "cell_type": "code",
   "execution_count": 24,
   "metadata": {
    "collapsed": true
   },
   "outputs": [],
   "source": [
    "r2 = np.linalg.qr(D, mode='r')"
   ]
  },
  {
   "cell_type": "code",
   "execution_count": 25,
   "metadata": {
    "collapsed": false
   },
   "outputs": [
    {
     "data": {
      "text/plain": [
       "array([[-16.887+0.j   ,   4.489+1.966j,  -0.261-2.179j,  -3.695+0.876j,\n",
       "          5.448+7.84j ,  -7.900-2.357j],\n",
       "       [  0.000+0.j   , -16.643+0.j   ,   3.398-5.063j,   2.952-1.49j ,\n",
       "         -1.438-2.002j,  -3.370+2.04j ],\n",
       "       [  0.000+0.j   ,   0.000+0.j   , -12.410+0.j   ,   9.559-3.094j,\n",
       "         -9.400+0.673j,   3.015+2.761j],\n",
       "       [  0.000+0.j   ,   0.000+0.j   ,   0.000+0.j   ,  10.662+0.j   ,\n",
       "          7.284-1.327j,   8.965-0.784j],\n",
       "       [  0.000+0.j   ,   0.000+0.j   ,   0.000+0.j   ,   0.000+0.j   ,\n",
       "         14.117+0.j   ,  -7.147+2.577j],\n",
       "       [  0.000+0.j   ,   0.000+0.j   ,   0.000+0.j   ,   0.000+0.j   ,\n",
       "          0.000+0.j   ,  -4.254+0.j   ]])"
      ]
     },
     "execution_count": 25,
     "metadata": {},
     "output_type": "execute_result"
    }
   ],
   "source": [
    "r2"
   ]
  },
  {
   "cell_type": "code",
   "execution_count": null,
   "metadata": {
    "collapsed": true
   },
   "outputs": [],
   "source": []
  }
 ],
 "metadata": {
  "kernelspec": {
   "display_name": "Python 2",
   "language": "python",
   "name": "python2"
  },
  "language_info": {
   "codemirror_mode": {
    "name": "ipython",
    "version": 2
   },
   "file_extension": ".py",
   "mimetype": "text/x-python",
   "name": "python",
   "nbconvert_exporter": "python",
   "pygments_lexer": "ipython2",
   "version": "2.7.10"
  }
 },
 "nbformat": 4,
 "nbformat_minor": 0
}
